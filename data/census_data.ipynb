{
 "cells": [
  {
   "cell_type": "code",
   "execution_count": 1,
   "metadata": {},
   "outputs": [],
   "source": [
    "# Dependencies\n",
    "import numpy as np\n",
    "import pandas as pd\n",
    "import matplotlib.pyplot as plt\n",
    "from census import Census\n",
    "import sqlite3 as sql\n",
    "import pandas as pd\n",
    "\n",
    "# Census & gmaps API Keys\n",
    "from config import (api_key)\n",
    "c = Census(api_key)"
   ]
  },
  {
   "cell_type": "code",
   "execution_count": 2,
   "metadata": {},
   "outputs": [
    {
     "name": "stdout",
     "output_type": "stream",
     "text": [
      "52\n"
     ]
    },
    {
     "data": {
      "text/plain": [
       "state                                   object\n",
       "population                             float64\n",
       "population_mal_18                      float64\n",
       "population_fem_18                      float64\n",
       "population_18                            int32\n",
       "poverty_count                          float64\n",
       "poverty_rate                           float64\n",
       "pop_race_sum                             int32\n",
       "pop_white                              float64\n",
       "pop_black_afr_american                 float64\n",
       "pop_american_indian_alaska             float64\n",
       "pop_asian                              float64\n",
       "pop_native_hawaiian_pacific_islands    float64\n",
       "dtype: object"
      ]
     },
     "execution_count": 2,
     "metadata": {},
     "output_type": "execute_result"
    }
   ],
   "source": [
    "# Retrieve data from census API\n",
    "census_data = c.acs5.get((\"NAME\", \"B01003_001E\", \"B05003_008E\", \"B05003_019E\",\n",
    "                          \"B17001_002E\", \"B02001_002E\", \"B02001_003E\",\n",
    "                          \"B02001_004E\", \"B02001_005E\", \"B02001_006E\"), \n",
    "                         {'for': 'state:*'})\n",
    "\n",
    "# Convert to DataFrame\n",
    "census_pd = pd.DataFrame(census_data)\n",
    "\n",
    "# Column Reordering\n",
    "census_pd = census_pd.rename(columns={\"B01003_001E\": \"population\",\n",
    "                                      \"B05003_008E\": \"population_mal_18\",\n",
    "                                      \"B05003_019E\": \"population_fem_18\",\n",
    "                                      \"B17001_002E\": \"poverty_count\",\n",
    "                                      \"B02001_002E\": \"pop_white\",\n",
    "                                      \"B02001_003E\": \"pop_black_afr_american\",\n",
    "                                      \"B02001_004E\": \"pop_american_indian_alaska\",\n",
    "                                      \"B02001_005E\": \"pop_asian\",\n",
    "                                      \"B02001_006E\": \"pop_native_hawaiian_pacific_islands\",\n",
    "                                      \"NAME\": \"state\", \"state\":\"number\"})\n",
    "\n",
    "# Add in Population 18+\n",
    "census_pd[\"population_18\"] = \\\n",
    "    census_pd[\"population_mal_18\"].astype(\n",
    "        int) + census_pd[\"population_fem_18\"].astype(int)\n",
    "\n",
    "# Add in Poverty Rate (Poverty Count / Population)\n",
    "census_pd[\"poverty_rate\"] = 100 * \\\n",
    "    census_pd[\"poverty_count\"].astype(\n",
    "        int) / census_pd[\"population\"].astype(int)\n",
    "\n",
    "# Add in Population Race Sum\n",
    "census_pd[\"pop_race_sum\"] = \\\n",
    "    census_pd[\"pop_white\"].astype(\n",
    "        int) + census_pd[\"pop_black_afr_american\"].astype(\n",
    "            int) + census_pd[\"pop_american_indian_alaska\"].astype(\n",
    "                int) + census_pd[\"pop_asian\"].astype(\n",
    "                    int) + census_pd[\"pop_native_hawaiian_pacific_islands\"].astype(int)\n",
    "\n",
    "# Final DataFrame\n",
    "census_pd = census_pd[[\"state\", \"population\", \"population_mal_18\", \"population_fem_18\", \"population_18\",\n",
    "                       \"poverty_count\", \"poverty_rate\", \"pop_race_sum\", \"pop_white\", \"pop_black_afr_american\",\n",
    "                       \"pop_american_indian_alaska\", \"pop_asian\", \"pop_native_hawaiian_pacific_islands\"]]\n",
    "\n",
    "# Visualize\n",
    "print(len(census_pd))\n",
    "\n",
    "census_pd.head()\n",
    "\n",
    "census_pd.dtypes"
   ]
  },
  {
   "cell_type": "code",
   "execution_count": 3,
   "metadata": {},
   "outputs": [],
   "source": [
    "census_pd['population'] = census_pd['population'].astype(int)\n",
    "census_pd['population_mal_18'] = census_pd['population_mal_18'].astype(int)\n",
    "census_pd['population_fem_18'] = census_pd['population_fem_18'].astype(int)\n",
    "census_pd['poverty_count'] = census_pd['poverty_count'].astype(int)\n",
    "census_pd['pop_white'] = census_pd['pop_white'].astype(int)\n",
    "census_pd['pop_black_afr_american'] = census_pd['pop_black_afr_american'].astype(int)\n",
    "census_pd['pop_american_indian_alaska'] = census_pd['pop_american_indian_alaska'].astype(int)\n",
    "census_pd['pop_asian'] = census_pd['pop_asian'].astype(int)\n",
    "census_pd['pop_native_hawaiian_pacific_islands'] = census_pd['pop_native_hawaiian_pacific_islands'].astype(int)"
   ]
  },
  {
   "cell_type": "code",
   "execution_count": 4,
   "metadata": {
    "scrolled": true
   },
   "outputs": [
    {
     "data": {
      "text/plain": [
       "state                                   object\n",
       "population                               int32\n",
       "population_mal_18                        int32\n",
       "population_fem_18                        int32\n",
       "population_18                            int32\n",
       "poverty_count                            int32\n",
       "poverty_rate                           float64\n",
       "pop_race_sum                             int32\n",
       "pop_white                                int32\n",
       "pop_black_afr_american                   int32\n",
       "pop_american_indian_alaska               int32\n",
       "pop_asian                                int32\n",
       "pop_native_hawaiian_pacific_islands      int32\n",
       "dtype: object"
      ]
     },
     "execution_count": 4,
     "metadata": {},
     "output_type": "execute_result"
    }
   ],
   "source": [
    "census_pd.dtypes"
   ]
  },
  {
   "cell_type": "code",
   "execution_count": 5,
   "metadata": {
    "scrolled": false
   },
   "outputs": [],
   "source": [
    "president_county_candidate = pd.read_csv(\"president_county_candidate.csv\")"
   ]
  },
  {
   "cell_type": "code",
   "execution_count": 6,
   "metadata": {},
   "outputs": [],
   "source": [
    "conn = sql.connect(\"usa_elections_2020.sqlite\")"
   ]
  },
  {
   "cell_type": "code",
   "execution_count": 7,
   "metadata": {},
   "outputs": [],
   "source": [
    "census_pd.to_sql('census', conn)\n",
    "president_county_candidate.to_sql(\"president_county_candidate\", conn)"
   ]
  }
 ],
 "metadata": {
  "kernelspec": {
   "display_name": "Python 3",
   "language": "python",
   "name": "python3"
  },
  "language_info": {
   "codemirror_mode": {
    "name": "ipython",
    "version": 3
   },
   "file_extension": ".py",
   "mimetype": "text/x-python",
   "name": "python",
   "nbconvert_exporter": "python",
   "pygments_lexer": "ipython3",
   "version": "3.7.6"
  }
 },
 "nbformat": 4,
 "nbformat_minor": 4
}