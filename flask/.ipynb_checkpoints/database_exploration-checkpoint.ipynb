{
 "cells": [
  {
   "cell_type": "code",
   "execution_count": 19,
   "metadata": {},
   "outputs": [],
   "source": [
    "# Importing Dependencies\n",
    "import sqlalchemy\n",
    "from sqlalchemy.ext.automap import automap_base\n",
    "from sqlalchemy import create_engine, inspect"
   ]
  },
  {
   "cell_type": "code",
   "execution_count": 20,
   "metadata": {},
   "outputs": [],
   "source": [
    "# Creating an engine for the usa_elections_2020_db.sqlite database\n",
    "engine = create_engine(\"sqlite:///../data/usa_elections_2020_db.sqlite\")"
   ]
  },
  {
   "cell_type": "code",
   "execution_count": 21,
   "metadata": {
    "scrolled": true
   },
   "outputs": [
    {
     "data": {
      "text/plain": [
       "['census', 'president_county_candidate']"
      ]
     },
     "execution_count": 21,
     "metadata": {},
     "output_type": "execute_result"
    }
   ],
   "source": [
    "# Reflecting Database into ORM classes\n",
    "Base = automap_base()\n",
    "Base.prepare(engine, reflect = True)\n",
    "Base.classes.keys()"
   ]
  },
  {
   "cell_type": "code",
   "execution_count": null,
   "metadata": {},
   "outputs": [],
   "source": []
  },
  {
   "cell_type": "code",
   "execution_count": 4,
   "metadata": {},
   "outputs": [
    {
     "data": {
      "text/plain": [
       "['census', 'president_county_candidate']"
      ]
     },
     "execution_count": 4,
     "metadata": {},
     "output_type": "execute_result"
    }
   ],
   "source": [
    "# Getting table names\n",
    "inspector = inspect(engine)\n",
    "inspector.get_table_names()"
   ]
  },
  {
   "cell_type": "code",
   "execution_count": 5,
   "metadata": {},
   "outputs": [
    {
     "name": "stdout",
     "output_type": "stream",
     "text": [
      "index INTEGER\n",
      "state TEXT\n",
      "population INTEGER\n",
      "population_mal_18 INTEGER\n",
      "population_fem_18 INTEGER\n",
      "population_18 INTEGER\n",
      "poverty_count INTEGER\n",
      "poverty_rate REAL\n",
      "pop_race_sum INTEGER\n",
      "pop_white INTEGER\n",
      "pop_black_afr_american INTEGER\n",
      "pop_american_indian_alaska INTEGER\n",
      "pop_asian INTEGER\n",
      "pop_native_hawaiian_pacific_islands INTEGER\n"
     ]
    }
   ],
   "source": [
    "# Getting census list of column names and types\n",
    "columns = inspector.get_columns('census')\n",
    "for c in columns:\n",
    "    print(c['name'], c[\"type\"])"
   ]
  },
  {
   "cell_type": "code",
   "execution_count": 6,
   "metadata": {
    "scrolled": false
   },
   "outputs": [
    {
     "name": "stdout",
     "output_type": "stream",
     "text": [
      "index INTEGER\n",
      "state TEXT\n",
      "county TEXT\n",
      "candidate TEXT\n",
      "party TEXT\n",
      "total_votes INTEGER\n",
      "won INTEGER\n"
     ]
    }
   ],
   "source": [
    "# Getting president_county_candidate list of column names and types\n",
    "columns = inspector.get_columns('president_county_candidate')\n",
    "for c in columns:\n",
    "    print(c['name'], c[\"type\"])"
   ]
  }
 ],
 "metadata": {
  "kernelspec": {
   "display_name": "Python 3",
   "language": "python",
   "name": "python3"
  },
  "language_info": {
   "codemirror_mode": {
    "name": "ipython",
    "version": 3
   },
   "file_extension": ".py",
   "mimetype": "text/x-python",
   "name": "python",
   "nbconvert_exporter": "python",
   "pygments_lexer": "ipython3",
   "version": "3.7.6"
  }
 },
 "nbformat": 4,
 "nbformat_minor": 4
}
